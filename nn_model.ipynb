{
 "cells": [
  {
   "cell_type": "code",
   "execution_count": null,
   "metadata": {},
   "outputs": [],
   "source": [
    "import numpy as np\n",
    "import tensorflow as tf"
   ]
  },
  {
   "cell_type": "markdown",
   "metadata": {},
   "source": [
    "load training data from .dat files\n",
    "raw_data_imaginary_x.dat --> train_imag\n",
    "raw_data_real_x.dat      --> train_real"
   ]
  },
  {
   "cell_type": "code",
   "execution_count": null,
   "metadata": {},
   "outputs": [],
   "source": [
    "trainingset_number = 0\n",
    "neuron_number = 8\n",
    "activation_function = 'tanh'\n",
    "iterations = 20000\n"
   ]
  },
  {
   "cell_type": "code",
   "execution_count": null,
   "metadata": {},
   "outputs": [],
   "source": [
    "filename_raw_data_real = \"raw_data_real_\" + str(trainingset_number) + \".dat\"\n",
    "filename_raw_data_imag = \"raw_data_imaginary_\" + str(trainingset_number) + \".dat\"\n",
    "\n",
    "# my_file = open(filename_raw_data_real, \"r\")\n",
    "# lines_real = my_file.readlines()\n",
    "# my_file.close()\n",
    "\n",
    "# my_file = open(filename_raw_data_imag, \"r\")\n",
    "# lines_imag = my_file.readlines()\n",
    "# my_file.close()\n",
    "\n",
    "# train_real = []\n",
    "# train_imag = []\n",
    "\n",
    "# for line in lines_real:\n",
    "#     train_real = [train_real ,float(line)]\n",
    "\n",
    "# for line in lines_imag:\n",
    "#     train_imag = [train_imag ,float(line)]\n",
    "\n",
    "dataset_real = tf.data.TextLineDataset(filename_raw_data_real)\n",
    "dataset_imag = tf.data.TextLineDataset(filename_raw_data_imag)\n",
    "\n",
    "# convert strings to float\n",
    "def parse_fnc(line):\n",
    "    string_vals = tf.strings.split([line]).values\n",
    "    return tf.strings.to_number(string_vals, tf.float32)\n",
    "\n",
    "dataset_real = dataset_real.map(map_func=parse_fnc)\n",
    "dataset_imag = dataset_imag.map(map_func=parse_fnc)\n",
    "\n",
    "# merge datasets\n",
    "dataset = dataset_real.zip(dataset_imag)\n"
   ]
  },
  {
   "cell_type": "code",
   "execution_count": 53,
   "metadata": {},
   "outputs": [
    {
     "name": "stdout",
     "output_type": "stream",
     "text": [
      "<ZipDataset element_spec=TensorSpec(shape=(None,), dtype=tf.float32, name=None)>\n",
      "<MapDataset element_spec=TensorSpec(shape=(None,), dtype=tf.float32, name=None)>\n"
     ]
    }
   ],
   "source": [
    "print(dataset)\n",
    "print(dataset_real)"
   ]
  },
  {
   "cell_type": "code",
   "execution_count": null,
   "metadata": {},
   "outputs": [],
   "source": [
    "FC_layer = tf.keras.layers.Dense(units=neuron_number, activation=activation_function) # dense layer == fully connected layer\n",
    "\n",
    "input_layer = tf.keras.layers.Dense(units=2, input_dim=2, activation=activation_function)\n",
    "output_layer = tf.keras.layers.Dense(units=2, activation=activation_function)"
   ]
  },
  {
   "cell_type": "code",
   "execution_count": null,
   "metadata": {},
   "outputs": [],
   "source": [
    "model = tf.keras.Sequential([input_layer, FC_layer, output_layer])\n"
   ]
  },
  {
   "cell_type": "code",
   "execution_count": null,
   "metadata": {},
   "outputs": [],
   "source": [
    "# compile the keras model\n",
    "model.compile(loss='binary_crossentropy', optimizer='adam', metrics=['accuracy'])"
   ]
  },
  {
   "cell_type": "code",
   "execution_count": null,
   "metadata": {},
   "outputs": [],
   "source": [
    "epochs = iterations\n",
    "# fit the keras model on the dataset\n",
    "model.fit(dataset)"
   ]
  },
  {
   "cell_type": "code",
   "execution_count": null,
   "metadata": {},
   "outputs": [],
   "source": [
    "# training progress\n",
    "# diagram number 2 paper page 4\n",
    "\n",
    "# cost function mean square error"
   ]
  }
 ],
 "metadata": {
  "interpreter": {
   "hash": "683e9bbf599fde3b00e37a0db68ad40a268db525b46af3924c3427b16ddb8792"
  },
  "kernelspec": {
   "display_name": "Python 3.10.4 64-bit",
   "language": "python",
   "name": "python3"
  },
  "language_info": {
   "codemirror_mode": {
    "name": "ipython",
    "version": 3
   },
   "file_extension": ".py",
   "mimetype": "text/x-python",
   "name": "python",
   "nbconvert_exporter": "python",
   "pygments_lexer": "ipython3",
   "version": "3.10.4"
  },
  "orig_nbformat": 4
 },
 "nbformat": 4,
 "nbformat_minor": 2
}
