{
 "cells": [
  {
   "cell_type": "code",
   "execution_count": null,
   "metadata": {},
   "outputs": [],
   "source": []
  },
  {
   "cell_type": "code",
   "execution_count": 45,
   "metadata": {},
   "outputs": [
    {
     "name": "stdout",
     "output_type": "stream",
     "text": [
      "allCarriers:   [  0   1   2   3   4   5   6   7   8   9  10  11  12  13  14  15  16  17\n",
      "  18  19  20  21  22  23  24  25  26  27  28  29  30  31  32  33  34  35\n",
      "  36  37  38  39  40  41  42  43  44  45  46  47  48  49  50  51  52  53\n",
      "  54  55  56  57  58  59  60  61  62  63  64  65  66  67  68  69  70  71\n",
      "  72  73  74  75  76  77  78  79  80  81  82  83  84  85  86  87  88  89\n",
      "  90  91  92  93  94  95  96  97  98  99 100 101 102 103 104 105 106 107\n",
      " 108 109 110 111 112 113 114 115 116 117 118 119 120 121 122 123 124 125\n",
      " 126 127 128 129 130 131 132 133 134 135 136 137 138 139 140 141 142 143\n",
      " 144 145 146 147 148 149 150 151 152 153 154 155 156 157 158 159 160 161\n",
      " 162 163 164 165 166 167 168 169 170 171 172 173 174 175 176 177 178 179\n",
      " 180 181 182 183 184 185 186 187 188 189 190 191 192 193 194 195 196 197\n",
      " 198 199 200 201 202 203 204 205 206 207 208 209 210 211 212 213 214 215\n",
      " 216 217 218 219 220 221 222 223 224 225 226 227 228 229 230 231 232 233\n",
      " 234 235 236 237 238 239 240 241 242 243 244 245 246 247 248 249 250 251\n",
      " 252 253 254 255]\n",
      "pilotCarriers: [  0  32  64  96 128 160 192 224 255]\n",
      "dataCarriers:  [  1   2   3   4   5   6   7   8   9  10  11  12  13  14  15  16  17  18\n",
      "  19  20  21  22  23  24  25  26  27  28  29  30  31  33  34  35  36  37\n",
      "  38  39  40  41  42  43  44  45  46  47  48  49  50  51  52  53  54  55\n",
      "  56  57  58  59  60  61  62  63  65  66  67  68  69  70  71  72  73  74\n",
      "  75  76  77  78  79  80  81  82  83  84  85  86  87  88  89  90  91  92\n",
      "  93  94  95  97  98  99 100 101 102 103 104 105 106 107 108 109 110 111\n",
      " 112 113 114 115 116 117 118 119 120 121 122 123 124 125 126 127 129 130\n",
      " 131 132 133 134 135 136 137 138 139 140 141 142 143 144 145 146 147 148\n",
      " 149 150 151 152 153 154 155 156 157 158 159 161 162 163 164 165 166 167\n",
      " 168 169 170 171 172 173 174 175 176 177 178 179 180 181 182 183 184 185\n",
      " 186 187 188 189 190 191 193 194 195 196 197 198 199 200 201 202 203 204\n",
      " 205 206 207 208 209 210 211 212 213 214 215 216 217 218 219 220 221 222\n",
      " 223 225 226 227 228 229 230 231 232 233 234 235 236 237 238 239 240 241\n",
      " 242 243 244 245 246 247 248 249 250 251 252 253 254]\n",
      "Expected number of samples generated from raw bits: 1\n"
     ]
    },
    {
     "data": {
      "image/png": "[encoded data removed]",
      "text/plain": [
       "<Figure size 432x288 with 1 Axes>"
      ]
     },
     "metadata": {
      "needs_background": "light"
     },
     "output_type": "display_data"
    }
   ],
   "source": [
    "# %%\n",
    "#!pip3 install matplotlib\n",
    "#!pip3 install numpy\n",
    "#!pip3 install scipy\n",
    "#!pip3 install statsmodels\n",
    "\n",
    "from audioop import rms\n",
    "import numpy as np\n",
    "from matplotlib import pyplot as plt\n",
    "import scipy\n",
    "import scipy.interpolate\n",
    "from scipy.signal import butter,filtfilt\n",
    "from statsmodels.distributions.empirical_distribution import ECDF\n",
    "import math\n",
    "import os\n",
    "import time\n",
    "\n",
    "# %%\n",
    "# Max number of samples to be saved\n",
    "# number of samples either limited by SAMPLES or by len(bits)\n",
    "MAX_SAMPLES = 1\n",
    "filename_raw_bits = 'raw_bit_sequence_training_50000.npy'\n",
    "\n",
    "file_id_output = 2\n",
    "\n",
    "filename_papr_data = \"papr_data_\" + str(file_id_output) + \".dat\"\n",
    "filename_raw_data_real = \"raw_data_real_\" + str(file_id_output) + \".dat\"\n",
    "filename_raw_data_imaginary = \"raw_data_imaginary_\" + str(file_id_output) + \".dat\"\n",
    "\n",
    "K = 256 # number of OFDM subcarriers\n",
    "CLIPPING_AND_FILTERING_ACTIVE = True\n",
    "CLIPPING_RATIO = 1.4\n",
    "title_info = \"16qam_\" + str(K) + \"_subcarriers_clipping_and_filtering\"\n",
    "\n",
    "\n",
    "# read only\n",
    "NUMBER_OF_CLIPPED_TIME_VALUES = 0\n",
    "\n",
    "# %% [markdown]\n",
    "# The length of the cyclic prefix (CP) denotes the number of samples that are copied from the end of the modulated block to the beginning, to yield a cyclic extension of the block. There is a dedicated article on the CP of OFDM which treats its application in more detail.\n",
    "\n",
    "# %%\n",
    "CP = K//4  # length of the cyclic prefix: 25% of the block\n",
    "\n",
    "# %% [markdown]\n",
    "# The number of pilots P in the OFDM symbol describes, how many carriers are used to transmit known information (i.e. pilots). Pilots will be used at the receiver to estimate the wireless channel between transmitter and receiver. Further, we also define the value that each pilots transmits (which is known to the receiver).\n",
    "\n",
    "# %%\n",
    "P = 8 # number of pilot carriers per OFDM block\n",
    "pilotValue = 3+3j # The known value each pilot transmits\n",
    "\n",
    "# %% [markdown]\n",
    "# Now, let us define some index sets that describe which carriers transmit pilots and which carriers contain payload.\n",
    "\n",
    "# %%\n",
    "allCarriers = np.arange(K)  # indices of all subcarriers ([0, 1, ... K-1])\n",
    "\n",
    "pilotCarriers = allCarriers[::K//P] # Pilots is every (K/P)th carrier.\n",
    "\n",
    "# For convenience of channel estimation, let's make the last carriers also be a pilot\n",
    "pilotCarriers = np.hstack([pilotCarriers, np.array([allCarriers[-1]])])\n",
    "P = P+1\n",
    "\n",
    "# data carriers are all remaining carriers\n",
    "dataCarriers = np.delete(allCarriers, pilotCarriers)\n",
    "\n",
    "print (\"allCarriers:   %s\" % allCarriers)\n",
    "print (\"pilotCarriers: %s\" % pilotCarriers)\n",
    "print (\"dataCarriers:  %s\" % dataCarriers)\n",
    "#plt.plot(pilotCarriers, np.zeros_like(pilotCarriers), 'bo', label='pilot')\n",
    "#plt.plot(dataCarriers, np.zeros_like(dataCarriers), 'r', label='data')\n",
    "#plt.legend([\"pilot\", \"data\"])\n",
    "\n",
    "# %% [markdown]\n",
    "# Let's define the modulation index μ and the corresponding mapping table. We consider 16QAM transmission, i.e. we have μ=4 bits per symbol. Furthermore, the mapping from groups of 4 bits to a 16QAM constellation symbol shall be defined in mapping_table.\n",
    "\n",
    "# %%\n",
    "mu = 4 # bits per symbol (i.e. 16QAM)\n",
    "payloadBits_per_OFDM = len(dataCarriers)*mu  # number of payload bits per OFDM symbol\n",
    "\n",
    "mapping_table = {\n",
    "    (0,0,0,0) : -3-3j,\n",
    "    (0,0,0,1) : -3-1j,\n",
    "    (0,0,1,0) : -3+3j,\n",
    "    (0,0,1,1) : -3+1j,\n",
    "    (0,1,0,0) : -1-3j,\n",
    "    (0,1,0,1) : -1-1j,\n",
    "    (0,1,1,0) : -1+3j,\n",
    "    (0,1,1,1) : -1+1j,\n",
    "    (1,0,0,0) :  3-3j,\n",
    "    (1,0,0,1) :  3-1j,\n",
    "    (1,0,1,0) :  3+3j,\n",
    "    (1,0,1,1) :  3+1j,\n",
    "    (1,1,0,0) :  1-3j,\n",
    "    (1,1,0,1) :  1-1j,\n",
    "    (1,1,1,0) :  1+3j,\n",
    "    (1,1,1,1) :  1+1j\n",
    "}\n",
    "for b3 in [0, 1]:\n",
    "    for b2 in [0, 1]:\n",
    "        for b1 in [0, 1]:\n",
    "            for b0 in [0, 1]:\n",
    "                B = (b3, b2, b1, b0)\n",
    "                Q = mapping_table[B]\n",
    "                #plt.plot(Q.real, Q.imag, 'bo')\n",
    "                #plt.text(Q.real, Q.imag+0.2, \"\".join(str(x) for x in B), ha='center')\n",
    "\n",
    "# %% [markdown]\n",
    "# Above, we have plotted the 16QAM constellation, along with the bit-labels. Note the Gray-mapping, i.e. two adjacent constellation symbols differ only by one bit and the other 3 bits remain the same. This technique helps to minimize bit-errors, in case a wrong constellation symbol is detected: Most probably, symbol errors are \"off-by-one\" errors, i.e. a symbol next to the correct symbol is detected. Then, only a single bit-error occurs.\n",
    "# \n",
    "# The demapping table is simply the inverse mapping of the mapping table:\n",
    "\n",
    "# %%\n",
    "demapping_table = {v : k for k, v in mapping_table.items()}\n",
    "\n",
    "# %% [markdown]\n",
    "# Let us now define the wireless channel between transmitter and receiver. Here, we use a two-tap multipath channel with given impulse response channelResponse. Also, we plot the corresponding frequency response. As we see, the channel is frequency-selective. Further, we define the signal-to-noise ratio in dB, that should occur at the receiver.\n",
    "\n",
    "# %%\n",
    "channelResponse = np.array([1, 0, 0.3+0.3j])  # the impulse response of the wireless channel\n",
    "H_exact = np.fft.fft(channelResponse, K)\n",
    "#plt.plot(allCarriers, abs(H_exact))\n",
    "\n",
    "SNRdb = 25  # signal to noise-ratio in dB at the receiver \n",
    "\n",
    "\n",
    "# load bits from file\n",
    "with open(filename_raw_bits, 'rb') as myfile:\n",
    "    totalbits = np.load(myfile)\n",
    "\n",
    "number_of_samples = min(MAX_SAMPLES, int(len(totalbits) / payloadBits_per_OFDM))\n",
    "print(\"Expected number of samples generated from raw bits: \" + str(number_of_samples))\n",
    "time.sleep(5)\n",
    "\n",
    "i = 1\n",
    "bits = totalbits[i*payloadBits_per_OFDM:i*payloadBits_per_OFDM+payloadBits_per_OFDM]\n",
    "\n",
    "# %% [markdown]\n",
    "# The bits are now sent to a serial-to-parallel converter, which groups the bits for the OFDM frame into a groups of mu bits (i.e. one group for each subcarrier):\n",
    "\n",
    "# %%\n",
    "def SP(bits):\n",
    "    return bits.reshape((len(dataCarriers), mu))\n",
    "bits_SP = SP(bits)\n",
    "#print (\"First 5 bit groups\")\n",
    "#print (bits_SP[:5,:])\n",
    "\n",
    "# %% [markdown]\n",
    "# Now, the bits groups are sent to the mapper. The mapper converts the groups into complex-valued constellation symbols according to the mapping_table.\n",
    "\n",
    "# %%\n",
    "def Mapping(bits):\n",
    "    return np.array([mapping_table[tuple(b)] for b in bits])\n",
    "QAM = Mapping(bits_SP)\n",
    "#print (\"First 5 QAM symbols and bits:\")\n",
    "#print (bits_SP[:5,:])\n",
    "#print (QAM[:5])\n",
    "\n",
    "# %% [markdown]\n",
    "# The next step (which is not shown in the diagram) is the allocation of different subcarriers with data and pilots. For each subcarrier we have defined wether it carries data or a pilot by the arrays dataCarriers and pilotCarriers. Now, to create the overall OFDM data, we need to put the data and pilots into the OFDM carriers:\n",
    "\n",
    "# %%\n",
    "def OFDM_symbol(QAM_payload):\n",
    "    symbol = np.zeros(K, dtype=complex) # the overall K subcarriers\n",
    "    symbol[pilotCarriers] = pilotValue  # allocate the pilot subcarriers \n",
    "    symbol[dataCarriers] = QAM_payload  # allocate the pilot subcarriers\n",
    "    return symbol\n",
    "OFDM_data = OFDM_symbol(QAM)\n",
    "#print (\"Number of OFDM carriers in frequency domain: \", len(OFDM_data))\n",
    "\n",
    "# %% [markdown]\n",
    "# Now, the OFDM carriers contained in OFDM_data can be transformed to the time-domain by means of the IDFT operation.\n",
    "\n",
    "# %%\n",
    "def IDFT(OFDM_data):\n",
    "    return np.fft.ifft(OFDM_data)\n",
    "OFDM_time = IDFT(OFDM_data)\n",
    "#print (\"Number of OFDM samples in time-domain before CP: \", len(OFDM_time))\n",
    "\n",
    "## now plot the constellation diagram to control the noise before clipping and filtering\n",
    "def DFT(OFDM_time):\n",
    "    return np.fft.fft(OFDM_time)\n",
    "OFDM_data_for_constellation = DFT(OFDM_time)\n",
    "\n",
    "for value in OFDM_data_for_constellation:\n",
    "    plt.plot(value.real, value.imag, 'bo')"
   ]
  },
  {
   "cell_type": "code",
   "execution_count": 46,
   "metadata": {},
   "outputs": [
    {
     "name": "stderr",
     "output_type": "stream",
     "text": [
      "C:\\Users\\jonas\\AppData\\Local\\Temp/ipykernel_14044/1258689036.py:35: DeprecationWarning: `np.complex` is a deprecated alias for the builtin `complex`. To silence this warning, use `complex` by itself. Doing this will not modify any behavior and is safe. If you specifically wanted the numpy scalar type, use `np.complex128` here.\n",
      "Deprecated in NumPy 1.20; for more details and guidance: https://numpy.org/devdocs/release/1.20.0-notes.html#deprecations\n",
      "  OFDM_time = np.append(OFDM_time, np.complex(clipped_values_real[i], clipped_values_imag[i]))\n"
     ]
    }
   ],
   "source": [
    "# OFDM_time is one complex OFDM sample which will correspond to one PAPR value\n",
    "\n",
    "# if clipping is active, do the clipping now\n",
    "if CLIPPING_AND_FILTERING_ACTIVE:\n",
    "    \n",
    "    \n",
    "    def clip_array(clipping_ratio, array, clipped_values_count):\n",
    "        # normalized clipping\n",
    "        # level, which we call the clipping ratio (CR = A/α, where α is\n",
    "        # the rms level of the OFDM signal). A CR of 1.4 denotes that\n",
    "        # the clipping level is about 3 dB higher than the rms level.\n",
    "        rms_ofdm_time = np.sqrt(np.sum(np.square(array) / len(array)))\n",
    "        #print(rms_ofdm_time)\n",
    "        CLIPPING_THRESHOLD = clipping_ratio * rms_ofdm_time                \n",
    "\n",
    "        arr_i = 0\n",
    "        for value in array:\n",
    "            if value > CLIPPING_THRESHOLD:\n",
    "                value = CLIPPING_THRESHOLD\n",
    "                clipped_values_count = clipped_values_count + 1\n",
    "\n",
    "            array[arr_i] = value\n",
    "            arr_i = arr_i + 1        \n",
    "        \n",
    "        return (array, clipped_values_count)\n",
    "    \n",
    "    array_to_be_clipped = np.real(OFDM_time)\n",
    "    (clipped_values_real, NUMBER_OF_CLIPPED_TIME_VALUES) = clip_array(CLIPPING_RATIO, array_to_be_clipped, NUMBER_OF_CLIPPED_TIME_VALUES)\n",
    "\n",
    "    array_to_be_clipped = np.imag(OFDM_time)\n",
    "    (clipped_values_imag, NUMBER_OF_CLIPPED_TIME_VALUES) = clip_array(CLIPPING_RATIO, array_to_be_clipped, NUMBER_OF_CLIPPED_TIME_VALUES)                       \n",
    "    \n",
    "    # save clipped data in OFDM_time        \n",
    "    for i in range(len(clipped_values_real)):\n",
    "        OFDM_time = np.append(OFDM_time, np.complex(clipped_values_real[i], clipped_values_imag[i]))    \n",
    "\n",
    "      "
   ]
  },
  {
   "cell_type": "code",
   "execution_count": 47,
   "metadata": {},
   "outputs": [
    {
     "name": "stdout",
     "output_type": "stream",
     "text": [
      "512\n",
      "50\n"
     ]
    }
   ],
   "source": [
    "print(len(OFDM_time))\n",
    "print(NUMBER_OF_CLIPPED_TIME_VALUES)"
   ]
  },
  {
   "cell_type": "code",
   "execution_count": 48,
   "metadata": {},
   "outputs": [
    {
     "data": {
      "image/png": "[encoded data removed]",
      "text/plain": [
       "<Figure size 432x288 with 1 Axes>"
      ]
     },
     "metadata": {
      "needs_background": "light"
     },
     "output_type": "display_data"
    }
   ],
   "source": [
    "## now plot the constellation diagram to control the noise after clipping\n",
    "def DFT(OFDM_time):\n",
    "    return np.fft.fft(OFDM_time)\n",
    "OFDM_data_for_constellation = DFT(OFDM_time)\n",
    "\n",
    "for value in OFDM_data_for_constellation:\n",
    "    plt.plot(value.real, value.imag, 'bo')"
   ]
  },
  {
   "cell_type": "code",
   "execution_count": 49,
   "metadata": {},
   "outputs": [],
   "source": [
    "# if clipping was active, do the filtering now\n",
    "# Filter requirements.        \n",
    "fs = 300e3       # sample rate, Hz\n",
    "cutoff = 120e3      # desired cutoff frequency of the filter [Hz]        \n",
    "order = 2       # sine wave can be approx represented as quadratic\n",
    "\n",
    "def butter_lowpass_filter(data, cutoff, fs, order):\n",
    "    nyq = 0.5 * fs\n",
    "    normal_cutoff = cutoff / nyq\n",
    "    # Get the filter coefficients \n",
    "    b, a = butter(order, normal_cutoff, btype='low', analog=False)\n",
    "    y = filtfilt(b, a, data)\n",
    "    return y\n",
    "\n",
    "OFDM_time = butter_lowpass_filter(OFDM_time, cutoff, fs, order)  "
   ]
  },
  {
   "cell_type": "code",
   "execution_count": 50,
   "metadata": {},
   "outputs": [
    {
     "data": {
      "image/png": "[encoded data removed]",
      "text/plain": [
       "<Figure size 432x288 with 1 Axes>"
      ]
     },
     "metadata": {
      "needs_background": "light"
     },
     "output_type": "display_data"
    }
   ],
   "source": [
    "## now plot the constellation diagram to control the noise after clipping and filtering\n",
    "def DFT(OFDM_time):\n",
    "    return np.fft.fft(OFDM_time)\n",
    "OFDM_data_for_constellation = DFT(OFDM_time)\n",
    "\n",
    "for value in OFDM_data_for_constellation:\n",
    "    plt.plot(value.real, value.imag, 'bo')"
   ]
  },
  {
   "cell_type": "code",
   "execution_count": 51,
   "metadata": {},
   "outputs": [
    {
     "name": "stdout",
     "output_type": "stream",
     "text": [
      "PAPR of sample: 9.129204327878197 dB\n"
     ]
    }
   ],
   "source": [
    "# compute the PAPR of the time-domain signal sample\n",
    "power_peak = max(np.square(abs(OFDM_time)))\n",
    "power_mean = np.mean(np.square(abs(OFDM_time)), dtype=np.float64)\n",
    "\n",
    "# decibel above average power\n",
    "PAPR = 10* np.log10(power_peak / power_mean)\n",
    "\n",
    "print(\"PAPR of sample: \" + str(PAPR) + \" dB\")"
   ]
  }
 ],
 "metadata": {
  "interpreter": {
   "hash": "eec17139169aaa16760b662b9a4b98c2efcfbbfffbd1dfd7c902d1c86383a0ea"
  },
  "kernelspec": {
   "display_name": "Python 3.8.3 32-bit",
   "language": "python",
   "name": "python3"
  },
  "language_info": {
   "codemirror_mode": {
    "name": "ipython",
    "version": 3
   },
   "file_extension": ".py",
   "mimetype": "text/x-python",
   "name": "python",
   "nbconvert_exporter": "python",
   "pygments_lexer": "ipython3",
   "version": "3.8.3"
  },
  "orig_nbformat": 4
 },
 "nbformat": 4,
 "nbformat_minor": 2
}
